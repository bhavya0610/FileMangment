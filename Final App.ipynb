{
 "cells": [
  {
   "cell_type": "code",
   "execution_count": 1,
   "metadata": {},
   "outputs": [],
   "source": [
    "class FileManagement():\n",
    "    \n",
    "    def __init__(self):\n",
    "        \n",
    "        self._name = \"records.txt\"\n",
    "        \n",
    "        self._data = \"\"\n",
    "        \n",
    "        self._file = open(self._name, 'a+')\n",
    "            \n",
    "        \n",
    "    def _isExist(self, filepath):\n",
    "        return os.path.exists(filepath)\n",
    "    \n",
    "    def insert_data(self, data):\n",
    "        \n",
    "        self._file = open(self._name, 'a+')\n",
    "        \n",
    "        self._data = \"\\n\".join(data)\n",
    "        \n",
    "        self._data += \"\\n\\n\"\n",
    "        \n",
    "        try:\n",
    "            self._file.write(self._data)\n",
    "            self._file.close()\n",
    "            return True\n",
    "        except Exception as e:\n",
    "            return False\n",
    "        return False\n",
    "\n",
    "\n",
    "\n",
    "\n",
    "\n",
    "    def read_data(self):\n",
    "            final_data = []\n",
    "            try:\n",
    "                total_chunk = open(self._name, 'r').read()\n",
    "\n",
    "                total_data = total_chunk.split(\"\\n\\n\")\n",
    "\n",
    "                if len(total_data) == 0:\n",
    "                    return 5\n",
    "\n",
    "                for item in total_data[:-1]:\n",
    "\n",
    "                    chunk = item.split(\"\\n\")\n",
    "\n",
    "                    final_data.append((chunk[0],chunk[1],chunk[2]))\n",
    "\n",
    "                return final_data\n",
    "\n",
    "            except:\n",
    "                return False\n"
   ]
  },
  {
   "cell_type": "code",
   "execution_count": 2,
   "metadata": {},
   "outputs": [],
   "source": [
    "def main():\n",
    "    \n",
    "    fm = FileManagement()\n",
    "    \n",
    "    print(\"\\n1. Insert a record\")\n",
    "    print(\"2. View all record\")\n",
    "    \n",
    "    choice = input(\"\\nEnter your choice : \")\n",
    "    \n",
    "    if choice == \"1\":\n",
    "        name = input(\"\\nEnter a name : \")\n",
    "        email = input(\"\\nEnter a email : \")\n",
    "        password = input(\"\\nEnter password : \")\n",
    "        \n",
    "        if fm.insert_data([name, email, password]):\n",
    "            print(\"\\nData Inserted Successfully!\")\n",
    "        else:\n",
    "            print(\"Oops! Something went wrong!\")\n",
    "            \n",
    "    elif choice == \"2\":\n",
    "        \n",
    "        data = fm.read_data()\n",
    "        \n",
    "        if data == 5:\n",
    "            \n",
    "            print(\"\\nNo records found!\")\n",
    "        elif not data:\n",
    "            print(\"\\nOops! Something went wrong!\")\n",
    "        else:\n",
    "            \n",
    "            print(\"\\n:: All Records ::\\n\")\n",
    "            \n",
    "            for index, elem in enumerate(data):\n",
    "                \n",
    "                print(\"\\nSl No :\" + str(index+1))\n",
    "                print(\"Name : \" + elem[0])\n",
    "                print(\"Email : \" + elem[1])\n",
    "                print(\"Password : \" + elem[2])\n",
    "                print()\n",
    "            \n",
    "        "
   ]
  },
  {
   "cell_type": "code",
   "execution_count": null,
   "metadata": {},
   "outputs": [
    {
     "name": "stdout",
     "output_type": "stream",
     "text": [
      "\n",
      "1. Insert a record\n",
      "2. View all record\n"
     ]
    }
   ],
   "source": [
    "main()"
   ]
  },
  {
   "cell_type": "code",
   "execution_count": null,
   "metadata": {},
   "outputs": [],
   "source": []
  }
 ],
 "metadata": {
  "kernelspec": {
   "display_name": "Python 3",
   "language": "python",
   "name": "python3"
  },
  "language_info": {
   "codemirror_mode": {
    "name": "ipython",
    "version": 3
   },
   "file_extension": ".py",
   "mimetype": "text/x-python",
   "name": "python",
   "nbconvert_exporter": "python",
   "pygments_lexer": "ipython3",
   "version": "3.7.4"
  }
 },
 "nbformat": 4,
 "nbformat_minor": 2
}
